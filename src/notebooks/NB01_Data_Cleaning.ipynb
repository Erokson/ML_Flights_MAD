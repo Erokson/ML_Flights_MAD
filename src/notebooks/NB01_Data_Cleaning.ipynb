{
 "cells": [
  {
   "cell_type": "code",
   "execution_count": 1,
   "metadata": {},
   "outputs": [
    {
     "name": "stderr",
     "output_type": "stream",
     "text": [
      "<>:7: SyntaxWarning: invalid escape sequence '\\d'\n",
      "<>:7: SyntaxWarning: invalid escape sequence '\\d'\n",
      "C:\\Users\\adria\\AppData\\Local\\Temp\\ipykernel_24936\\3504604276.py:7: SyntaxWarning: invalid escape sequence '\\d'\n",
      "  df_mad = pd.read_csv(\"..\\data_sample\\estat_avia_par_es_filtered_en.csv\")\n",
      "C:\\Users\\adria\\AppData\\Local\\Temp\\ipykernel_24936\\3504604276.py:7: DtypeWarning: Columns (8) have mixed types. Specify dtype option on import or set low_memory=False.\n",
      "  df_mad = pd.read_csv(\"..\\data_sample\\estat_avia_par_es_filtered_en.csv\")\n"
     ]
    }
   ],
   "source": [
    "import pandas as pd\n",
    "import numpy as np\n",
    "import matplotlib.pyplot as plt\n",
    "import seaborn as sns\n",
    "import datetime as dt\n",
    "\n",
    "df_mad = pd.read_csv(\"..\\data_sample\\estat_avia_par_es_filtered_en.csv\")"
   ]
  },
  {
   "cell_type": "code",
   "execution_count": 2,
   "metadata": {},
   "outputs": [
    {
     "data": {
      "application/vnd.microsoft.datawrangler.viewer.v0+json": {
       "columns": [
        {
         "name": "index",
         "rawType": "int64",
         "type": "integer"
        },
        {
         "name": "DATAFLOW",
         "rawType": "object",
         "type": "string"
        },
        {
         "name": "LAST UPDATE",
         "rawType": "object",
         "type": "string"
        },
        {
         "name": "freq",
         "rawType": "object",
         "type": "string"
        },
        {
         "name": "unit",
         "rawType": "object",
         "type": "string"
        },
        {
         "name": "tra_meas",
         "rawType": "object",
         "type": "string"
        },
        {
         "name": "airp_pr",
         "rawType": "object",
         "type": "string"
        },
        {
         "name": "TIME_PERIOD",
         "rawType": "object",
         "type": "string"
        },
        {
         "name": "OBS_VALUE",
         "rawType": "int64",
         "type": "integer"
        },
        {
         "name": "OBS_FLAG",
         "rawType": "object",
         "type": "unknown"
        },
        {
         "name": "CONF_STATUS",
         "rawType": "float64",
         "type": "float"
        }
       ],
       "ref": "d92ef062-ca34-433a-8f83-81f2f4a74e06",
       "rows": [
        [
         "0",
         "ESTAT:AVIA_PAR_ES(1.0)",
         "17/02/25 23:00:00",
         "Monthly",
         "Passenger",
         "Passengers carried",
         "FUERTEVENTURA airport - WIEN-SCHWECHAT airport",
         "2011-01",
         "2479",
         null,
         null
        ],
        [
         "1",
         "ESTAT:AVIA_PAR_ES(1.0)",
         "17/02/25 23:00:00",
         "Monthly",
         "Passenger",
         "Passengers carried",
         "FUERTEVENTURA airport - WIEN-SCHWECHAT airport",
         "2011-02",
         "2264",
         null,
         null
        ],
        [
         "2",
         "ESTAT:AVIA_PAR_ES(1.0)",
         "17/02/25 23:00:00",
         "Monthly",
         "Passenger",
         "Passengers carried",
         "FUERTEVENTURA airport - WIEN-SCHWECHAT airport",
         "2011-03",
         "3051",
         null,
         null
        ],
        [
         "3",
         "ESTAT:AVIA_PAR_ES(1.0)",
         "17/02/25 23:00:00",
         "Monthly",
         "Passenger",
         "Passengers carried",
         "FUERTEVENTURA airport - WIEN-SCHWECHAT airport",
         "2011-04",
         "3523",
         null,
         null
        ],
        [
         "4",
         "ESTAT:AVIA_PAR_ES(1.0)",
         "17/02/25 23:00:00",
         "Monthly",
         "Passenger",
         "Passengers carried",
         "FUERTEVENTURA airport - WIEN-SCHWECHAT airport",
         "2011-05",
         "1726",
         null,
         null
        ]
       ],
       "shape": {
        "columns": 10,
        "rows": 5
       }
      },
      "text/html": [
       "<div>\n",
       "<style scoped>\n",
       "    .dataframe tbody tr th:only-of-type {\n",
       "        vertical-align: middle;\n",
       "    }\n",
       "\n",
       "    .dataframe tbody tr th {\n",
       "        vertical-align: top;\n",
       "    }\n",
       "\n",
       "    .dataframe thead th {\n",
       "        text-align: right;\n",
       "    }\n",
       "</style>\n",
       "<table border=\"1\" class=\"dataframe\">\n",
       "  <thead>\n",
       "    <tr style=\"text-align: right;\">\n",
       "      <th></th>\n",
       "      <th>DATAFLOW</th>\n",
       "      <th>LAST UPDATE</th>\n",
       "      <th>freq</th>\n",
       "      <th>unit</th>\n",
       "      <th>tra_meas</th>\n",
       "      <th>airp_pr</th>\n",
       "      <th>TIME_PERIOD</th>\n",
       "      <th>OBS_VALUE</th>\n",
       "      <th>OBS_FLAG</th>\n",
       "      <th>CONF_STATUS</th>\n",
       "    </tr>\n",
       "  </thead>\n",
       "  <tbody>\n",
       "    <tr>\n",
       "      <th>0</th>\n",
       "      <td>ESTAT:AVIA_PAR_ES(1.0)</td>\n",
       "      <td>17/02/25 23:00:00</td>\n",
       "      <td>Monthly</td>\n",
       "      <td>Passenger</td>\n",
       "      <td>Passengers carried</td>\n",
       "      <td>FUERTEVENTURA airport - WIEN-SCHWECHAT airport</td>\n",
       "      <td>2011-01</td>\n",
       "      <td>2479</td>\n",
       "      <td>NaN</td>\n",
       "      <td>NaN</td>\n",
       "    </tr>\n",
       "    <tr>\n",
       "      <th>1</th>\n",
       "      <td>ESTAT:AVIA_PAR_ES(1.0)</td>\n",
       "      <td>17/02/25 23:00:00</td>\n",
       "      <td>Monthly</td>\n",
       "      <td>Passenger</td>\n",
       "      <td>Passengers carried</td>\n",
       "      <td>FUERTEVENTURA airport - WIEN-SCHWECHAT airport</td>\n",
       "      <td>2011-02</td>\n",
       "      <td>2264</td>\n",
       "      <td>NaN</td>\n",
       "      <td>NaN</td>\n",
       "    </tr>\n",
       "    <tr>\n",
       "      <th>2</th>\n",
       "      <td>ESTAT:AVIA_PAR_ES(1.0)</td>\n",
       "      <td>17/02/25 23:00:00</td>\n",
       "      <td>Monthly</td>\n",
       "      <td>Passenger</td>\n",
       "      <td>Passengers carried</td>\n",
       "      <td>FUERTEVENTURA airport - WIEN-SCHWECHAT airport</td>\n",
       "      <td>2011-03</td>\n",
       "      <td>3051</td>\n",
       "      <td>NaN</td>\n",
       "      <td>NaN</td>\n",
       "    </tr>\n",
       "    <tr>\n",
       "      <th>3</th>\n",
       "      <td>ESTAT:AVIA_PAR_ES(1.0)</td>\n",
       "      <td>17/02/25 23:00:00</td>\n",
       "      <td>Monthly</td>\n",
       "      <td>Passenger</td>\n",
       "      <td>Passengers carried</td>\n",
       "      <td>FUERTEVENTURA airport - WIEN-SCHWECHAT airport</td>\n",
       "      <td>2011-04</td>\n",
       "      <td>3523</td>\n",
       "      <td>NaN</td>\n",
       "      <td>NaN</td>\n",
       "    </tr>\n",
       "    <tr>\n",
       "      <th>4</th>\n",
       "      <td>ESTAT:AVIA_PAR_ES(1.0)</td>\n",
       "      <td>17/02/25 23:00:00</td>\n",
       "      <td>Monthly</td>\n",
       "      <td>Passenger</td>\n",
       "      <td>Passengers carried</td>\n",
       "      <td>FUERTEVENTURA airport - WIEN-SCHWECHAT airport</td>\n",
       "      <td>2011-05</td>\n",
       "      <td>1726</td>\n",
       "      <td>NaN</td>\n",
       "      <td>NaN</td>\n",
       "    </tr>\n",
       "  </tbody>\n",
       "</table>\n",
       "</div>"
      ],
      "text/plain": [
       "                 DATAFLOW        LAST UPDATE     freq       unit  \\\n",
       "0  ESTAT:AVIA_PAR_ES(1.0)  17/02/25 23:00:00  Monthly  Passenger   \n",
       "1  ESTAT:AVIA_PAR_ES(1.0)  17/02/25 23:00:00  Monthly  Passenger   \n",
       "2  ESTAT:AVIA_PAR_ES(1.0)  17/02/25 23:00:00  Monthly  Passenger   \n",
       "3  ESTAT:AVIA_PAR_ES(1.0)  17/02/25 23:00:00  Monthly  Passenger   \n",
       "4  ESTAT:AVIA_PAR_ES(1.0)  17/02/25 23:00:00  Monthly  Passenger   \n",
       "\n",
       "             tra_meas                                         airp_pr  \\\n",
       "0  Passengers carried  FUERTEVENTURA airport - WIEN-SCHWECHAT airport   \n",
       "1  Passengers carried  FUERTEVENTURA airport - WIEN-SCHWECHAT airport   \n",
       "2  Passengers carried  FUERTEVENTURA airport - WIEN-SCHWECHAT airport   \n",
       "3  Passengers carried  FUERTEVENTURA airport - WIEN-SCHWECHAT airport   \n",
       "4  Passengers carried  FUERTEVENTURA airport - WIEN-SCHWECHAT airport   \n",
       "\n",
       "  TIME_PERIOD  OBS_VALUE OBS_FLAG  CONF_STATUS  \n",
       "0     2011-01       2479      NaN          NaN  \n",
       "1     2011-02       2264      NaN          NaN  \n",
       "2     2011-03       3051      NaN          NaN  \n",
       "3     2011-04       3523      NaN          NaN  \n",
       "4     2011-05       1726      NaN          NaN  "
      ]
     },
     "execution_count": 2,
     "metadata": {},
     "output_type": "execute_result"
    }
   ],
   "source": [
    "df_mad.head()"
   ]
  },
  {
   "cell_type": "code",
   "execution_count": 3,
   "metadata": {},
   "outputs": [
    {
     "data": {
      "application/vnd.microsoft.datawrangler.viewer.v0+json": {
       "columns": [
        {
         "name": "index",
         "rawType": "int64",
         "type": "integer"
        },
        {
         "name": "DATAFLOW",
         "rawType": "object",
         "type": "string"
        },
        {
         "name": "LAST UPDATE",
         "rawType": "object",
         "type": "string"
        },
        {
         "name": "freq",
         "rawType": "object",
         "type": "string"
        },
        {
         "name": "unit",
         "rawType": "object",
         "type": "string"
        },
        {
         "name": "tra_meas",
         "rawType": "object",
         "type": "string"
        },
        {
         "name": "airp_pr",
         "rawType": "object",
         "type": "string"
        },
        {
         "name": "TIME_PERIOD",
         "rawType": "object",
         "type": "string"
        },
        {
         "name": "OBS_VALUE",
         "rawType": "int64",
         "type": "integer"
        },
        {
         "name": "OBS_FLAG",
         "rawType": "object",
         "type": "unknown"
        },
        {
         "name": "CONF_STATUS",
         "rawType": "float64",
         "type": "float"
        }
       ],
       "ref": "700f4fa9-1578-4ff1-b1a4-e9f79d66146d",
       "rows": [
        [
         "160492",
         "ESTAT:AVIA_PAR_ES(1.0)",
         "17/02/25 23:00:00",
         "Monthly",
         "Passenger",
         "Passengers carried",
         "SEVILLA airport - LONDON STANSTED airport",
         "2024-08",
         "11169",
         null,
         null
        ],
        [
         "160493",
         "ESTAT:AVIA_PAR_ES(1.0)",
         "17/02/25 23:00:00",
         "Monthly",
         "Passenger",
         "Passengers carried",
         "SEVILLA airport - LONDON STANSTED airport",
         "2024-09",
         "10319",
         null,
         null
        ],
        [
         "160494",
         "ESTAT:AVIA_PAR_ES(1.0)",
         "17/02/25 23:00:00",
         "Monthly",
         "Passenger",
         "Passengers carried",
         "SEVILLA airport - LONDON STANSTED airport",
         "2024-10",
         "12900",
         null,
         null
        ],
        [
         "160495",
         "ESTAT:AVIA_PAR_ES(1.0)",
         "17/02/25 23:00:00",
         "Monthly",
         "Passenger",
         "Passengers carried",
         "SEVILLA airport - LONDON STANSTED airport",
         "2024-11",
         "15539",
         null,
         null
        ],
        [
         "160496",
         "ESTAT:AVIA_PAR_ES(1.0)",
         "17/02/25 23:00:00",
         "Monthly",
         "Passenger",
         "Passengers carried",
         "SEVILLA airport - LONDON STANSTED airport",
         "2024-12",
         "14007",
         null,
         null
        ]
       ],
       "shape": {
        "columns": 10,
        "rows": 5
       }
      },
      "text/html": [
       "<div>\n",
       "<style scoped>\n",
       "    .dataframe tbody tr th:only-of-type {\n",
       "        vertical-align: middle;\n",
       "    }\n",
       "\n",
       "    .dataframe tbody tr th {\n",
       "        vertical-align: top;\n",
       "    }\n",
       "\n",
       "    .dataframe thead th {\n",
       "        text-align: right;\n",
       "    }\n",
       "</style>\n",
       "<table border=\"1\" class=\"dataframe\">\n",
       "  <thead>\n",
       "    <tr style=\"text-align: right;\">\n",
       "      <th></th>\n",
       "      <th>DATAFLOW</th>\n",
       "      <th>LAST UPDATE</th>\n",
       "      <th>freq</th>\n",
       "      <th>unit</th>\n",
       "      <th>tra_meas</th>\n",
       "      <th>airp_pr</th>\n",
       "      <th>TIME_PERIOD</th>\n",
       "      <th>OBS_VALUE</th>\n",
       "      <th>OBS_FLAG</th>\n",
       "      <th>CONF_STATUS</th>\n",
       "    </tr>\n",
       "  </thead>\n",
       "  <tbody>\n",
       "    <tr>\n",
       "      <th>160492</th>\n",
       "      <td>ESTAT:AVIA_PAR_ES(1.0)</td>\n",
       "      <td>17/02/25 23:00:00</td>\n",
       "      <td>Monthly</td>\n",
       "      <td>Passenger</td>\n",
       "      <td>Passengers carried</td>\n",
       "      <td>SEVILLA airport - LONDON STANSTED airport</td>\n",
       "      <td>2024-08</td>\n",
       "      <td>11169</td>\n",
       "      <td>NaN</td>\n",
       "      <td>NaN</td>\n",
       "    </tr>\n",
       "    <tr>\n",
       "      <th>160493</th>\n",
       "      <td>ESTAT:AVIA_PAR_ES(1.0)</td>\n",
       "      <td>17/02/25 23:00:00</td>\n",
       "      <td>Monthly</td>\n",
       "      <td>Passenger</td>\n",
       "      <td>Passengers carried</td>\n",
       "      <td>SEVILLA airport - LONDON STANSTED airport</td>\n",
       "      <td>2024-09</td>\n",
       "      <td>10319</td>\n",
       "      <td>NaN</td>\n",
       "      <td>NaN</td>\n",
       "    </tr>\n",
       "    <tr>\n",
       "      <th>160494</th>\n",
       "      <td>ESTAT:AVIA_PAR_ES(1.0)</td>\n",
       "      <td>17/02/25 23:00:00</td>\n",
       "      <td>Monthly</td>\n",
       "      <td>Passenger</td>\n",
       "      <td>Passengers carried</td>\n",
       "      <td>SEVILLA airport - LONDON STANSTED airport</td>\n",
       "      <td>2024-10</td>\n",
       "      <td>12900</td>\n",
       "      <td>NaN</td>\n",
       "      <td>NaN</td>\n",
       "    </tr>\n",
       "    <tr>\n",
       "      <th>160495</th>\n",
       "      <td>ESTAT:AVIA_PAR_ES(1.0)</td>\n",
       "      <td>17/02/25 23:00:00</td>\n",
       "      <td>Monthly</td>\n",
       "      <td>Passenger</td>\n",
       "      <td>Passengers carried</td>\n",
       "      <td>SEVILLA airport - LONDON STANSTED airport</td>\n",
       "      <td>2024-11</td>\n",
       "      <td>15539</td>\n",
       "      <td>NaN</td>\n",
       "      <td>NaN</td>\n",
       "    </tr>\n",
       "    <tr>\n",
       "      <th>160496</th>\n",
       "      <td>ESTAT:AVIA_PAR_ES(1.0)</td>\n",
       "      <td>17/02/25 23:00:00</td>\n",
       "      <td>Monthly</td>\n",
       "      <td>Passenger</td>\n",
       "      <td>Passengers carried</td>\n",
       "      <td>SEVILLA airport - LONDON STANSTED airport</td>\n",
       "      <td>2024-12</td>\n",
       "      <td>14007</td>\n",
       "      <td>NaN</td>\n",
       "      <td>NaN</td>\n",
       "    </tr>\n",
       "  </tbody>\n",
       "</table>\n",
       "</div>"
      ],
      "text/plain": [
       "                      DATAFLOW        LAST UPDATE     freq       unit  \\\n",
       "160492  ESTAT:AVIA_PAR_ES(1.0)  17/02/25 23:00:00  Monthly  Passenger   \n",
       "160493  ESTAT:AVIA_PAR_ES(1.0)  17/02/25 23:00:00  Monthly  Passenger   \n",
       "160494  ESTAT:AVIA_PAR_ES(1.0)  17/02/25 23:00:00  Monthly  Passenger   \n",
       "160495  ESTAT:AVIA_PAR_ES(1.0)  17/02/25 23:00:00  Monthly  Passenger   \n",
       "160496  ESTAT:AVIA_PAR_ES(1.0)  17/02/25 23:00:00  Monthly  Passenger   \n",
       "\n",
       "                  tra_meas                                    airp_pr  \\\n",
       "160492  Passengers carried  SEVILLA airport - LONDON STANSTED airport   \n",
       "160493  Passengers carried  SEVILLA airport - LONDON STANSTED airport   \n",
       "160494  Passengers carried  SEVILLA airport - LONDON STANSTED airport   \n",
       "160495  Passengers carried  SEVILLA airport - LONDON STANSTED airport   \n",
       "160496  Passengers carried  SEVILLA airport - LONDON STANSTED airport   \n",
       "\n",
       "       TIME_PERIOD  OBS_VALUE OBS_FLAG  CONF_STATUS  \n",
       "160492     2024-08      11169      NaN          NaN  \n",
       "160493     2024-09      10319      NaN          NaN  \n",
       "160494     2024-10      12900      NaN          NaN  \n",
       "160495     2024-11      15539      NaN          NaN  \n",
       "160496     2024-12      14007      NaN          NaN  "
      ]
     },
     "execution_count": 3,
     "metadata": {},
     "output_type": "execute_result"
    }
   ],
   "source": [
    "df_mad.tail()"
   ]
  },
  {
   "cell_type": "code",
   "execution_count": 4,
   "metadata": {},
   "outputs": [
    {
     "name": "stdout",
     "output_type": "stream",
     "text": [
      "<class 'pandas.core.frame.DataFrame'>\n",
      "RangeIndex: 160497 entries, 0 to 160496\n",
      "Data columns (total 10 columns):\n",
      " #   Column       Non-Null Count   Dtype  \n",
      "---  ------       --------------   -----  \n",
      " 0   DATAFLOW     160497 non-null  object \n",
      " 1   LAST UPDATE  160497 non-null  object \n",
      " 2   freq         160497 non-null  object \n",
      " 3   unit         160497 non-null  object \n",
      " 4   tra_meas     160497 non-null  object \n",
      " 5   airp_pr      160497 non-null  object \n",
      " 6   TIME_PERIOD  160497 non-null  object \n",
      " 7   OBS_VALUE    160497 non-null  int64  \n",
      " 8   OBS_FLAG     5 non-null       object \n",
      " 9   CONF_STATUS  0 non-null       float64\n",
      "dtypes: float64(1), int64(1), object(8)\n",
      "memory usage: 12.2+ MB\n"
     ]
    }
   ],
   "source": [
    "df_mad.info()\n"
   ]
  },
  {
   "cell_type": "code",
   "execution_count": 5,
   "metadata": {},
   "outputs": [
    {
     "data": {
      "application/vnd.microsoft.datawrangler.viewer.v0+json": {
       "columns": [
        {
         "name": "index",
         "rawType": "object",
         "type": "string"
        },
        {
         "name": "0",
         "rawType": "int64",
         "type": "integer"
        }
       ],
       "ref": "c2cfa989-4a68-4f47-b0fd-41821c462853",
       "rows": [
        [
         "DATAFLOW",
         "0"
        ],
        [
         "LAST UPDATE",
         "0"
        ],
        [
         "freq",
         "0"
        ],
        [
         "unit",
         "0"
        ],
        [
         "tra_meas",
         "0"
        ],
        [
         "airp_pr",
         "0"
        ],
        [
         "TIME_PERIOD",
         "0"
        ],
        [
         "OBS_VALUE",
         "0"
        ],
        [
         "OBS_FLAG",
         "160492"
        ],
        [
         "CONF_STATUS",
         "160497"
        ]
       ],
       "shape": {
        "columns": 1,
        "rows": 10
       }
      },
      "text/plain": [
       "DATAFLOW            0\n",
       "LAST UPDATE         0\n",
       "freq                0\n",
       "unit                0\n",
       "tra_meas            0\n",
       "airp_pr             0\n",
       "TIME_PERIOD         0\n",
       "OBS_VALUE           0\n",
       "OBS_FLAG       160492\n",
       "CONF_STATUS    160497\n",
       "dtype: int64"
      ]
     },
     "execution_count": 5,
     "metadata": {},
     "output_type": "execute_result"
    }
   ],
   "source": [
    "df_mad.isna().sum()"
   ]
  },
  {
   "cell_type": "code",
   "execution_count": 6,
   "metadata": {},
   "outputs": [
    {
     "data": {
      "text/plain": [
       "0"
      ]
     },
     "execution_count": 6,
     "metadata": {},
     "output_type": "execute_result"
    }
   ],
   "source": [
    "df_mad.duplicated().sum()"
   ]
  },
  {
   "cell_type": "code",
   "execution_count": 7,
   "metadata": {},
   "outputs": [],
   "source": [
    "#Vamos a elimiinar las columnas que no nos interesan. \n",
    "\n",
    "df_mad_clean = df_mad.drop(columns=[\"DATAFLOW\", \"LAST UPDATE\", \"freq\", \"unit\", \"tra_meas\", \"OBS_FLAG\", \"CONF_STATUS\"])"
   ]
  },
  {
   "cell_type": "code",
   "execution_count": 8,
   "metadata": {},
   "outputs": [],
   "source": [
    "#Ahora creamos las columnas Origen, Destino y filtramos las rutas que no tengan madrid como origen o destino. \n",
    "df_mad_clean[['Origen', 'Destino']] = df_mad_clean['airp_pr'].str.split(\" - \", n=1, expand=True)\n",
    "df_mad_clean = df_mad_clean.drop(['airp_pr'], axis=1, errors='ignore')"
   ]
  },
  {
   "cell_type": "code",
   "execution_count": 9,
   "metadata": {},
   "outputs": [],
   "source": [
    "#Ahora vamos a filtrar las rutas que no tengan madrid como origen o destino.\n",
    "df_mad_clean = df_mad_clean[(df_mad_clean['Origen'] == 'ADOLFO SUAREZ MADRID-BARAJAS airport') | (df_mad_clean['Destino'] == 'ADOLFO SUAREZ MADRID-BARAJAS airport')]\n",
    "#Creamos la columna Tipo de trafico, que nos indica si es un vuelo de salida o de llegada.\n",
    "df_mad_clean['Tipo de trafico'] = np.where(df_mad_clean['Origen'] == 'ADOLFO SUAREZ MADRID-BARAJAS airport', 'Salida', 'Llegada')"
   ]
  },
  {
   "cell_type": "code",
   "execution_count": 10,
   "metadata": {},
   "outputs": [
    {
     "name": "stderr",
     "output_type": "stream",
     "text": [
      "<>:9: SyntaxWarning: invalid escape sequence '\\d'\n",
      "<>:9: SyntaxWarning: invalid escape sequence '\\d'\n",
      "C:\\Users\\adria\\AppData\\Local\\Temp\\ipykernel_24936\\966983477.py:9: SyntaxWarning: invalid escape sequence '\\d'\n",
      "  df_mad_final.to_csv(\"..\\data_sample\\mad_clean.csv\", index=False)\n"
     ]
    }
   ],
   "source": [
    "#Renombramos las columnas para que sean mas legibles y convertimos la columna time_period a datetime.\n",
    "df_mad_final = df_mad_clean.rename(columns={\"OBS_VALUE\": \"Pasajeros\", \"TIME_PERIOD\": \"Fecha\"})\n",
    "df_mad_final['Fecha'] = pd.to_datetime(df_mad_final['Fecha'], format='%Y-%m')\n",
    "\n",
    "# Crear columnas 'Año' y 'Mes'\n",
    "df_mad_final['Año'] = df_mad_final['Fecha'].dt.year\n",
    "df_mad_final['Mes'] = df_mad_final['Fecha'].dt.month\n",
    "#Guardamos el dataframe limpio en un nuevo csv.\n",
    "df_mad_final.to_csv(\"..\\data_sample\\mad_clean.csv\", index=False)\n"
   ]
  },
  {
   "cell_type": "code",
   "execution_count": 11,
   "metadata": {},
   "outputs": [
    {
     "name": "stdout",
     "output_type": "stream",
     "text": [
      "<class 'pandas.core.frame.DataFrame'>\n",
      "Index: 25609 entries, 3386 to 156388\n",
      "Data columns (total 7 columns):\n",
      " #   Column           Non-Null Count  Dtype         \n",
      "---  ------           --------------  -----         \n",
      " 0   Fecha            25609 non-null  datetime64[ns]\n",
      " 1   Pasajeros        25609 non-null  int64         \n",
      " 2   Origen           25609 non-null  object        \n",
      " 3   Destino          25609 non-null  object        \n",
      " 4   Tipo de trafico  25609 non-null  object        \n",
      " 5   Año              25609 non-null  int32         \n",
      " 6   Mes              25609 non-null  int32         \n",
      "dtypes: datetime64[ns](1), int32(2), int64(1), object(3)\n",
      "memory usage: 1.4+ MB\n"
     ]
    }
   ],
   "source": [
    "df_mad_final.info()"
   ]
  },
  {
   "cell_type": "code",
   "execution_count": 12,
   "metadata": {},
   "outputs": [
    {
     "data": {
      "application/vnd.microsoft.datawrangler.viewer.v0+json": {
       "columns": [
        {
         "name": "index",
         "rawType": "object",
         "type": "string"
        },
        {
         "name": "Fecha",
         "rawType": "object",
         "type": "unknown"
        },
        {
         "name": "Pasajeros",
         "rawType": "float64",
         "type": "float"
        },
        {
         "name": "Año",
         "rawType": "float64",
         "type": "float"
        },
        {
         "name": "Mes",
         "rawType": "float64",
         "type": "float"
        }
       ],
       "ref": "fef1b51e-c59e-40d6-885e-4d61baaf1097",
       "rows": [
        [
         "count",
         "25609",
         "25609.0",
         "25609.0",
         "25609.0"
        ],
        [
         "mean",
         "2017-06-23 06:00:59.885196800",
         "34306.43226990511",
         "2017.0183138740288",
         "6.508336912804093"
        ],
        [
         "min",
         "2010-01-01 00:00:00",
         "0.0",
         "2010.0",
         "1.0"
        ],
        [
         "25%",
         "2013-10-01 00:00:00",
         "11896.0",
         "2013.0",
         "4.0"
        ],
        [
         "50%",
         "2017-06-01 00:00:00",
         "20823.0",
         "2017.0",
         "7.0"
        ],
        [
         "75%",
         "2021-05-01 00:00:00",
         "42890.0",
         "2021.0",
         "10.0"
        ],
        [
         "max",
         "2024-12-01 00:00:00",
         "295603.0",
         "2024.0",
         "12.0"
        ],
        [
         "std",
         null,
         "36179.63015695651",
         "4.354921282646687",
         "3.4501202618902482"
        ]
       ],
       "shape": {
        "columns": 4,
        "rows": 8
       }
      },
      "text/html": [
       "<div>\n",
       "<style scoped>\n",
       "    .dataframe tbody tr th:only-of-type {\n",
       "        vertical-align: middle;\n",
       "    }\n",
       "\n",
       "    .dataframe tbody tr th {\n",
       "        vertical-align: top;\n",
       "    }\n",
       "\n",
       "    .dataframe thead th {\n",
       "        text-align: right;\n",
       "    }\n",
       "</style>\n",
       "<table border=\"1\" class=\"dataframe\">\n",
       "  <thead>\n",
       "    <tr style=\"text-align: right;\">\n",
       "      <th></th>\n",
       "      <th>Fecha</th>\n",
       "      <th>Pasajeros</th>\n",
       "      <th>Año</th>\n",
       "      <th>Mes</th>\n",
       "    </tr>\n",
       "  </thead>\n",
       "  <tbody>\n",
       "    <tr>\n",
       "      <th>count</th>\n",
       "      <td>25609</td>\n",
       "      <td>25609.000000</td>\n",
       "      <td>25609.000000</td>\n",
       "      <td>25609.000000</td>\n",
       "    </tr>\n",
       "    <tr>\n",
       "      <th>mean</th>\n",
       "      <td>2017-06-23 06:00:59.885196800</td>\n",
       "      <td>34306.432270</td>\n",
       "      <td>2017.018314</td>\n",
       "      <td>6.508337</td>\n",
       "    </tr>\n",
       "    <tr>\n",
       "      <th>min</th>\n",
       "      <td>2010-01-01 00:00:00</td>\n",
       "      <td>0.000000</td>\n",
       "      <td>2010.000000</td>\n",
       "      <td>1.000000</td>\n",
       "    </tr>\n",
       "    <tr>\n",
       "      <th>25%</th>\n",
       "      <td>2013-10-01 00:00:00</td>\n",
       "      <td>11896.000000</td>\n",
       "      <td>2013.000000</td>\n",
       "      <td>4.000000</td>\n",
       "    </tr>\n",
       "    <tr>\n",
       "      <th>50%</th>\n",
       "      <td>2017-06-01 00:00:00</td>\n",
       "      <td>20823.000000</td>\n",
       "      <td>2017.000000</td>\n",
       "      <td>7.000000</td>\n",
       "    </tr>\n",
       "    <tr>\n",
       "      <th>75%</th>\n",
       "      <td>2021-05-01 00:00:00</td>\n",
       "      <td>42890.000000</td>\n",
       "      <td>2021.000000</td>\n",
       "      <td>10.000000</td>\n",
       "    </tr>\n",
       "    <tr>\n",
       "      <th>max</th>\n",
       "      <td>2024-12-01 00:00:00</td>\n",
       "      <td>295603.000000</td>\n",
       "      <td>2024.000000</td>\n",
       "      <td>12.000000</td>\n",
       "    </tr>\n",
       "    <tr>\n",
       "      <th>std</th>\n",
       "      <td>NaN</td>\n",
       "      <td>36179.630157</td>\n",
       "      <td>4.354921</td>\n",
       "      <td>3.450120</td>\n",
       "    </tr>\n",
       "  </tbody>\n",
       "</table>\n",
       "</div>"
      ],
      "text/plain": [
       "                               Fecha      Pasajeros           Año  \\\n",
       "count                          25609   25609.000000  25609.000000   \n",
       "mean   2017-06-23 06:00:59.885196800   34306.432270   2017.018314   \n",
       "min              2010-01-01 00:00:00       0.000000   2010.000000   \n",
       "25%              2013-10-01 00:00:00   11896.000000   2013.000000   \n",
       "50%              2017-06-01 00:00:00   20823.000000   2017.000000   \n",
       "75%              2021-05-01 00:00:00   42890.000000   2021.000000   \n",
       "max              2024-12-01 00:00:00  295603.000000   2024.000000   \n",
       "std                              NaN   36179.630157      4.354921   \n",
       "\n",
       "                Mes  \n",
       "count  25609.000000  \n",
       "mean       6.508337  \n",
       "min        1.000000  \n",
       "25%        4.000000  \n",
       "50%        7.000000  \n",
       "75%       10.000000  \n",
       "max       12.000000  \n",
       "std        3.450120  "
      ]
     },
     "execution_count": 12,
     "metadata": {},
     "output_type": "execute_result"
    }
   ],
   "source": [
    "df_mad_final.describe()"
   ]
  }
 ],
 "metadata": {
  "kernelspec": {
   "display_name": "Python 3",
   "language": "python",
   "name": "python3"
  },
  "language_info": {
   "codemirror_mode": {
    "name": "ipython",
    "version": 3
   },
   "file_extension": ".py",
   "mimetype": "text/x-python",
   "name": "python",
   "nbconvert_exporter": "python",
   "pygments_lexer": "ipython3",
   "version": "3.12.3"
  }
 },
 "nbformat": 4,
 "nbformat_minor": 2
}
